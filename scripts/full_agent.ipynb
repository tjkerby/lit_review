{
 "cells": [
  {
   "cell_type": "code",
   "execution_count": 1,
   "metadata": {},
   "outputs": [],
   "source": [
    "import os\n",
    "from dotenv import load_dotenv\n",
    "\n",
    "load_dotenv('/home/TomKerby/Research/langchain-academy/.env', override=True)\n",
    "os.environ[\"LANGCHAIN_PROJECT\"] = \"langchain-academy\""
   ]
  },
  {
   "cell_type": "code",
   "execution_count": 2,
   "metadata": {},
   "outputs": [],
   "source": [
    "import operator\n",
    "from typing import Annotated\n",
    "from langgraph.graph import StateGraph, START, END, MessagesState\n",
    "from langchain_core.messages import HumanMessage, SystemMessage, RemoveMessage\n",
    "from IPython.display import Image, display\n",
    "\n",
    "class HelperState(MessagesState):\n",
    "    context: Annotated[list, operator.add]\n",
    "    search_query: str\n",
    "    search_question: str\n",
    "    summary: str"
   ]
  },
  {
   "cell_type": "code",
   "execution_count": 3,
   "metadata": {},
   "outputs": [],
   "source": [
    "from langchain_ollama import ChatOllama\n",
    "\n",
    "llm = ChatOllama(model='llama3.3', temperature=0)"
   ]
  },
  {
   "cell_type": "code",
   "execution_count": 4,
   "metadata": {},
   "outputs": [],
   "source": [
    "gen_query_system_prompt = \"\"\"\n",
    "You are a query reformulator for a document search system. Your task is to generate an optimized search query that \n",
    "will be used to retrieve additional context from a document database. Analyze the entire conversation history as well \n",
    "as the latest user input. Reformulate the user's question by removing ambiguity, incorporating any relevant details \n",
    "or keywords from previous messages, and enhancing clarity and specificity. The goal is to produce a concise, precise \n",
    "query that maximizes the chances of retrieving useful documents. Make sure to output only the optimized search query \n",
    "with no additional explanation or commentary. The output should be exactly the query text.\n",
    "\"\"\"\n",
    "\n",
    "gen_question_system_prompt = \"\"\"\n",
    "You are a contextual query reformulator for a question-answering system. Your task is to enhance the user's question \n",
    "by incorporating relevant context from previous interactions. Analyze the entire conversation history along with the \n",
    "latest user query. If the latest question contains ambiguous references (e.g., pronouns like \"they\" or \"it\") or lacks \n",
    "necessary context, identify the key subject from previous questions and answers and explicitly include it in the \n",
    "reformulated query. For example, if a previous exchange involved the question \"What is the fastest land mammal?\" with \n",
    "the answer \"cheetah\" and the new question is \"How long do they live?\", your output should be: \"How long do cheetahs \n",
    "live?\". Output only the final reformulated query text with no additional explanation or commentary.\n",
    "\"\"\""
   ]
  },
  {
   "cell_type": "code",
   "execution_count": null,
   "metadata": {},
   "outputs": [],
   "source": [
    "from langchain_community.document_loaders import WikipediaLoader\n",
    "from typing import Literal\n",
    "\n",
    "def generate_search_query(state: HelperState):\n",
    "    messages = state[\"messages\"]\n",
    "    search_query = llm.invoke([SystemMessage(content=gen_query_system_prompt)]+messages)\n",
    "    return {\"search_query\": search_query.content}\n",
    "\n",
    "def reformulate_question(state: HelperState):\n",
    "    messages = state[\"messages\"]\n",
    "    summary = state.get(\"summary\", \"\")\n",
    "    state['context'] = []\n",
    "    if summary or len(messages) > 1:   \n",
    "        search_query = llm.invoke([SystemMessage(content=gen_question_system_prompt)]+messages)\n",
    "        return {\"search_question\": search_query.content}\n",
    "    else:\n",
    "        return {\"search_question\": state[\"messages\"][-1].content}\n",
    "\n",
    "def search_wikipedia(state: HelperState):\n",
    "    max_query_length = 300\n",
    "    trimmed_query = state['search_query'][:max_query_length]\n",
    "\n",
    "    search_docs = WikipediaLoader(query=trimmed_query, \n",
    "                                  load_max_docs=2).load()\n",
    "\n",
    "    formatted_search_docs = \"\\n\\n---\\n\\n\".join(\n",
    "        [\n",
    "            f'<Document source=\"{doc.metadata[\"source\"]}\" page=\"{doc.metadata.get(\"page\", \"\")}\">\\n{doc.page_content}\\n</Document>'\n",
    "            for doc in search_docs\n",
    "        ]\n",
    "    )\n",
    "\n",
    "    return {\"context\": [formatted_search_docs]} \n",
    "\n",
    "def generate_answer(state: HelperState):\n",
    "    \"\"\" Node to answer a question \"\"\"\n",
    "    context = \"\\n\\n\".join(state[\"context\"])\n",
    "    \n",
    "    summary = state.get(\"summary\", \"\")\n",
    "    system_context = f\"Summary of conversation earlier: {summary}\" if summary else \"\"\n",
    "    \n",
    "    recent_chat_history = \"\\n\".join([msg.content for msg in state[\"messages\"][:-1]])\n",
    "    \n",
    "    answer_template = (\n",
    "        \"Using the following recent conversation history:\\n\"\n",
    "        \"{chat_history}\\n\\n\"\n",
    "        \"and the additional context provided below:\\n\"\n",
    "        \"{context}\\n\\n\"\n",
    "        \"Please generate a concise and accurate answer for the user.\"\n",
    "    )\n",
    "    answer_instructions = answer_template.format(\n",
    "        chat_history=recent_chat_history,\n",
    "        context=context\n",
    "    )\n",
    "    \n",
    "    full_system_message = f\"{system_context}\\n\\n{answer_instructions}\" if system_context else answer_instructions\n",
    "\n",
    "    response = llm.invoke([\n",
    "        SystemMessage(content=full_system_message),\n",
    "        HumanMessage(content=state['search_question'])\n",
    "    ])\n",
    "\n",
    "    return {\"messages\": [response]}\n",
    "\n",
    "\n",
    "def summarize_conversation(state: HelperState):\n",
    "    summary = state.get(\"summary\", \"\")\n",
    "    if summary:\n",
    "        summary_message = (\n",
    "            f\"This is summary of the conversation to date: {summary}\\n\\n\"\n",
    "            \"Extend the summary by taking into account the new messages above:\"\n",
    "        )\n",
    "    else:\n",
    "        summary_message = \"Create a summary of the conversation above:\"\n",
    "\n",
    "    messages = state[\"messages\"] + [HumanMessage(content=summary_message)]\n",
    "    response = llm.invoke(messages)\n",
    "    \n",
    "    delete_messages = [RemoveMessage(id=m.id) for m in state[\"messages\"][:-2]]\n",
    "    return {\"summary\": response.content, \"messages\": delete_messages}\n",
    "\n",
    "def should_continue(state: HelperState)->Literal[\"summarize_conversation\", \"__end__\"]:\n",
    "    messages = state[\"messages\"]\n",
    "    if len(messages) > 6:\n",
    "        return \"summarize_conversation\"\n",
    "    else:\n",
    "        return \"__end__\""
   ]
  },
  {
   "cell_type": "code",
   "execution_count": 6,
   "metadata": {},
   "outputs": [],
   "source": [
    "import aiosqlite\n",
    "from langgraph.checkpoint.sqlite.aio import AsyncSqliteSaver\n",
    "import sqlite3\n",
    "from langgraph.checkpoint.sqlite import SqliteSaver\n",
    "\n",
    "def load_memory(db_path, async_run=True):\n",
    "    if async_run:\n",
    "        conn = aiosqlite.connect(db_path)\n",
    "        memory = AsyncSqliteSaver(conn)\n",
    "    else:\n",
    "        conn = sqlite3.connect(db_path, check_same_thread=False)\n",
    "        memory = SqliteSaver(conn)\n",
    "    return memory\n",
    "\n",
    "db_path = \"./example.db\"\n",
    "memory = load_memory(db_path, async_run=True)"
   ]
  },
  {
   "cell_type": "code",
   "execution_count": 7,
   "metadata": {},
   "outputs": [
    {
     "data": {
      "image/png": "[encoded data removed]",
      "text/plain": [
       "<IPython.core.display.Image object>"
      ]
     },
     "metadata": {},
     "output_type": "display_data"
    }
   ],
   "source": [
    "builder = StateGraph(HelperState)\n",
    "\n",
    "builder.add_node(\"search_wikipedia\", search_wikipedia)\n",
    "builder.add_node(\"generate_answer\", generate_answer)\n",
    "builder.add_node(\"generate_search_query\", generate_search_query)\n",
    "builder.add_node(\"reformulate_question\", reformulate_question)\n",
    "builder.add_node(\"summarize_conversation\", summarize_conversation)\n",
    "\n",
    "# Flow\n",
    "builder.add_edge(START, \"generate_search_query\")\n",
    "builder.add_edge(START, \"reformulate_question\")\n",
    "builder.add_edge(\"generate_search_query\", \"search_wikipedia\")\n",
    "builder.add_edge([\"reformulate_question\", \"search_wikipedia\"], \"generate_answer\")\n",
    "builder.add_conditional_edges(\"generate_answer\", should_continue)\n",
    "builder.add_edge(\"summarize_conversation\", END)\n",
    "graph = builder.compile(checkpointer=memory)\n",
    "\n",
    "display(Image(graph.get_graph().draw_mermaid_png()))\n"
   ]
  },
  {
   "cell_type": "code",
   "execution_count": 8,
   "metadata": {},
   "outputs": [],
   "source": [
    "async def stream_agent_output(\n",
    "    agent_graph,\n",
    "    text_input,\n",
    "    node_to_stream='generate_answer',\n",
    "    thread_id=\"1\",\n",
    "    node_completion=True\n",
    "):\n",
    "    config = {\"configurable\": {\"thread_id\": thread_id}}\n",
    "    input_message = HumanMessage(content=text_input)\n",
    "    last_node = None\n",
    "    async for event in agent_graph.astream_events({\"messages\": [input_message]}, config, version=\"v2\"):\n",
    "        node = event['metadata'].get('langgraph_node', '').strip()\n",
    "        if node and node != last_node and node_completion:\n",
    "            print(node)\n",
    "            last_node = node\n",
    "        if event[\"event\"] == \"on_chat_model_stream\" and event['metadata'].get('langgraph_node','') == node_to_stream:\n",
    "            data = event[\"data\"]\n",
    "            print(data[\"chunk\"].content, end=\"\")"
   ]
  },
  {
   "cell_type": "code",
   "execution_count": 9,
   "metadata": {},
   "outputs": [
    {
     "name": "stdout",
     "output_type": "stream",
     "text": [
      "According to the provided text, Brigham Young University-Idaho (BYU-Idaho) was previously known as Ricks College and transitioned from a junior college to a baccalaureate institution in 2001, at which point it became a university. However, the main Brigham Young University (BYU), located in Provo, Utah, is not mentioned in the provided text as having a specific date for becoming a university. If you're looking for information on the main BYU, I'd be happy to try and help you find that information."
     ]
    }
   ],
   "source": [
    "thread_id = \"1\"\n",
    "text_input = \"When did BYU become a university?\"\n",
    "await stream_agent_output(graph, text_input, thread_id=thread_id, node_completion=False)"
   ]
  },
  {
   "cell_type": "code",
   "execution_count": 10,
   "metadata": {},
   "outputs": [
    {
     "name": "stdout",
     "output_type": "stream",
     "text": [
      "Brigham Young University (BYU) has not entered the Big 12 Conference. However, BYU did join the Big 12 Conference on September 10, 2021, and began competing in the conference on July 1, 2023. Prior to joining the Big 12, BYU was a member of the West Coast Conference (WCC) for most sports and competed as an independent in football."
     ]
    }
   ],
   "source": [
    "text_input = \"When did the university enter the Big XII conference?\"\n",
    "await stream_agent_output(graph, text_input, thread_id=thread_id, node_completion=False)"
   ]
  },
  {
   "cell_type": "code",
   "execution_count": 11,
   "metadata": {},
   "outputs": [
    {
     "name": "stdout",
     "output_type": "stream",
     "text": [
      "That's correct! The athletic teams of Brigham Young University (BYU) are indeed called the BYU Cougars. They compete in the National Collegiate Athletic Association (NCAA) Division I and are part of the Big 12 Conference.\n",
      "\n",
      "The BYU Cougars have a wide range of sports teams, including:\n",
      "\n",
      "1. Football\n",
      "2. Men's basketball\n",
      "3. Women's basketball\n",
      "4. Baseball\n",
      "5. Softball\n",
      "6. Volleyball\n",
      "7. Soccer\n",
      "8. Gymnastics\n",
      "9. Track and field\n",
      "10. Cross country\n",
      "11. Golf\n",
      "12. Tennis\n",
      "\n",
      "The university has a strong athletic program, with many of its teams having achieved significant success over the years. The BYU Cougars have won numerous conference championships and have appeared in several NCAA tournaments.\n",
      "\n",
      "It's worth noting that BYU is known for its unique culture and values, which are reflected in its athletic programs. The university is owned and operated by The Church of Jesus Christ of Latter-day Saints (LDS Church), and as such, it has a strong emphasis on sportsmanship, integrity, and character development."
     ]
    }
   ],
   "source": [
    "text_input = \"What official sports teams does BYU have?\"\n",
    "await stream_agent_output(graph, text_input, thread_id=thread_id, node_completion=False)"
   ]
  },
  {
   "cell_type": "code",
   "execution_count": 12,
   "metadata": {},
   "outputs": [
    {
     "name": "stdout",
     "output_type": "stream",
     "text": [
      "As of my knowledge cutoff, Brigham Young University (BYU) has indeed joined the Big 12 Conference, and their athletic teams, known as the Cougars, have been competing in various sports. However, I don't have real-time information on their current performance.\n",
      "\n",
      "That being said, I can provide some general context and insights. BYU's transition to the Big 12 Conference marks a significant change for the university's athletic programs. The Big 12 is a Power Five conference, which means that BYU will be competing against some of the top athletic programs in the country.\n",
      "\n",
      "In terms of their performance, it's likely that BYU's teams will face stiff competition in the Big 12. The conference is home to traditional powerhouses like Oklahoma, Texas, and Kansas, among others. However, BYU has a strong athletic tradition and has been competitive in various sports, including football, basketball, and volleyball.\n",
      "\n",
      "To get a better sense of how BYU is performing in athletics as a member of the Big 12 Conference, I recommend checking out the latest news, scores, and standings from reputable sources like ESPN, CBS Sports, or the official Big 12 Conference website. You can also follow BYU's athletic department on social media to stay up-to-date on their teams' progress.\n",
      "\n",
      "Keep in mind that transitioning to a new conference can be challenging, and it may take some time for BYU's teams to adjust to the level of competition in the Big 12. However, with their strong athletic tradition and dedicated fan base, the Cougars are likely to be competitive and make a positive impact in their new conference home."
     ]
    }
   ],
   "source": [
    "text_input = \"How well is BYU doing in athletics as they transition into being a full member of the Big XII conference?\"\n",
    "await stream_agent_output(graph, text_input, thread_id=thread_id, node_completion=False)"
   ]
  },
  {
   "cell_type": "code",
   "execution_count": 13,
   "metadata": {},
   "outputs": [],
   "source": [
    "# print(result['summary'])"
   ]
  }
 ],
 "metadata": {
  "kernelspec": {
   "display_name": ".venv",
   "language": "python",
   "name": "python3"
  },
  "language_info": {
   "codemirror_mode": {
    "name": "ipython",
    "version": 3
   },
   "file_extension": ".py",
   "mimetype": "text/x-python",
   "name": "python",
   "nbconvert_exporter": "python",
   "pygments_lexer": "ipython3",
   "version": "3.11.10"
  }
 },
 "nbformat": 4,
 "nbformat_minor": 2
}
