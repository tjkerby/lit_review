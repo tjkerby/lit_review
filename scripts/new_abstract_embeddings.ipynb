{
 "cells": [
  {
   "cell_type": "code",
   "execution_count": null,
   "id": "f6719b94",
   "metadata": {},
   "outputs": [],
   "source": [
    "import sys\n",
    "sys.path.append('/home/TomKerby/Research/lit_review/lit_review')\n",
    "import utils\n",
    "sys.path.append('/home/TomKerby/Research/lit_review/configs')\n",
    "from new_llm_config import config\n",
    "import rag_utils as rag\n",
    "\n",
    "def handle_graph_update(paper_ids, cfg):\n",
    "    emb_adapter = rag.get_embeddings(cfg)\n",
    "    kg = utils.load_kg(cfg)\n",
    "    \n",
    "    result = kg.query(\n",
    "        \"\"\"\n",
    "        MATCH (p:Paper) \n",
    "        WHERE p.paperId IN $paper_ids\n",
    "        RETURN elementId(p) AS node_id, p.abstract AS abstract\n",
    "        \"\"\",\n",
    "        params={\"paper_ids\":paper_ids}\n",
    "    )\n",
    "\n",
    "    for record in result:\n",
    "        if record[\"abstract\"]:\n",
    "            prepped_abstract = emb_adapter.prepare_query(record['abstract'])\n",
    "            embedding = emb_adapter.embed_query(prepped_abstract)\n",
    "            kg.query(\"\"\"\n",
    "                MATCH (p:Paper) WHERE elementId(p) = $node_id\n",
    "                SET p.abstractEmbedding = $embedding\n",
    "                RETURN elementId(p) AS node_id, p.abstract AS abstract\n",
    "                \"\"\", params={\"node_id\":record[\"node_id\"], \"embedding\":embedding}\n",
    "            )\n",
    "\n",
    "# paper_ids = [\"04e541391e8dce14d099d00fb2c21dbbd8afe87f\"]\n",
    "# handle_graph_update(paper_ids, config)"
   ]
  }
 ],
 "metadata": {
  "kernelspec": {
   "display_name": ".venv",
   "language": "python",
   "name": "python3"
  },
  "language_info": {
   "codemirror_mode": {
    "name": "ipython",
    "version": 3
   },
   "file_extension": ".py",
   "mimetype": "text/x-python",
   "name": "python",
   "nbconvert_exporter": "python",
   "pygments_lexer": "ipython3",
   "version": "3.11.10"
  }
 },
 "nbformat": 4,
 "nbformat_minor": 5
}
