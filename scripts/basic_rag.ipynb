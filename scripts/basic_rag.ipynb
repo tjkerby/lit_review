{
 "cells": [
  {
   "cell_type": "code",
   "execution_count": 1,
   "metadata": {},
   "outputs": [],
   "source": [
    "import sys\n",
    "sys.path.append('C:/Users/tjker/Desktop/Research/Projects/lit_review/lit_review')\n",
    "import utils\n",
    "\n",
    "sys.path.append('C:/Users/tjker/Desktop/Research/Projects/lit_review/configs')\n",
    "from create_chunks_config import config\n",
    "\n",
    "kg = utils.load_kg(config)"
   ]
  },
  {
   "cell_type": "code",
   "execution_count": 45,
   "metadata": {},
   "outputs": [],
   "source": [
    "from langchain_neo4j import Neo4jVector\n",
    "from langchain_huggingface import HuggingFaceEmbeddings, HuggingFaceEndpoint\n",
    "from langchain.chains.retrieval_qa.base import RetrievalQA\n",
    "from langchain.chains import RetrievalQAWithSourcesChain\n",
    "\n",
    "from dotenv import load_dotenv\n",
    "import textwrap\n",
    "\n",
    "load_dotenv('C:/Users/tjker/Desktop/Research/Projects/lit_review/.env', override=True)\n",
    "\n",
    "llm = HuggingFaceEndpoint(model=config['model']['model_id'])\n",
    "\n",
    "chunk_vector = Neo4jVector.from_existing_index(\n",
    "    HuggingFaceEmbeddings(model_name=config['embedding']['model_id']),\n",
    "    graph=kg,\n",
    "    index_name='paper_chunks',\n",
    "    embedding_node_property='textEmbedding',\n",
    "    text_node_property='text',\n",
    ")\n",
    "\n",
    "retriever_20 = chunk_vector.as_retriever(search_kwargs={\"k\": 20})\n",
    "retriever_0 = chunk_vector.as_retriever()\n",
    "chunk_retriever = RetrievalQA.from_llm(llm=llm, retriever=retriever_20)"
   ]
  },
  {
   "cell_type": "code",
   "execution_count": 35,
   "metadata": {},
   "outputs": [
    {
     "name": "stdout",
     "output_type": "stream",
     "text": [
      " You can leverage the structure of a latent space to\n",
      "influence generation in various ways, such as manipulating\n",
      "the latent variables, using pre-trained visual encoders to\n",
      "modulate the capacity, injecting noise, or using\n",
      "crossattention modules to capture semantic relationships.\n"
     ]
    }
   ],
   "source": [
    "question = \"What are some ways that you can leverage the structure of a latent space to influence generation?\"\n",
    "response = chunk_retriever.invoke({\"query\": question})\n",
    "\n",
    "print(textwrap.fill(response['result'], 60))"
   ]
  },
  {
   "cell_type": "code",
   "execution_count": 36,
   "metadata": {},
   "outputs": [],
   "source": [
    "# question = \"How can we uncover the underlying structure of the latent space in GANs and Diffusion Models?\"\n",
    "# result = chunk_vector.similarity_search(question, k=3)\n",
    "# for doc in result:\n",
    "#     print(doc.metadata[\"chunkId\"], \"-\", doc.page_content)"
   ]
  },
  {
   "cell_type": "code",
   "execution_count": 46,
   "metadata": {},
   "outputs": [],
   "source": [
    "chain = RetrievalQAWithSourcesChain.from_chain_type(\n",
    "    llm=llm, chain_type=\"stuff\", retriever=retriever_0\n",
    ")"
   ]
  },
  {
   "cell_type": "code",
   "execution_count": 47,
   "metadata": {},
   "outputs": [
    {
     "data": {
      "text/plain": [
       "{'answer': ' The structure of a latent space can be leveraged to influence the generation process through its evolution.\\n',\n",
       " 'sources': 'ca743e75ce090bbf686307e41bd8747661768fbe, d7074976c2609568902a6b6ca45f6c71d9cb66bf'}"
      ]
     },
     "execution_count": 47,
     "metadata": {},
     "output_type": "execute_result"
    }
   ],
   "source": [
    "question = \"What are some ways that the structure of a latent space can be leveraged to influence the generation process?\"\n",
    "response = chain.invoke({\"question\": question},\n",
    "        return_only_outputs=True,)\n",
    "\n",
    "# print(textwrap.fill(response['result'], 60))\n",
    "response"
   ]
  },
  {
   "cell_type": "code",
   "execution_count": 31,
   "metadata": {},
   "outputs": [
    {
     "name": "stdout",
     "output_type": "stream",
     "text": [
      " Vincent Tao Hu, David W Zhang, Yuki M Asano, Gertjan J\n",
      "Burghouts, and Cees G M Snoek.\n"
     ]
    }
   ],
   "source": [
    "import textwrap\n",
    "def prettychain(question: str) -> str:\n",
    "    \"\"\"Pretty print the chain's response to a question\"\"\"\n",
    "    response = chain.invoke({\"question\": question},\n",
    "        return_only_outputs=True,)\n",
    "    print(textwrap.fill(response['answer'], 60))\n",
    "    \n",
    "prettychain('who wrote Self-Guided Diffusion Models?')"
   ]
  },
  {
   "cell_type": "code",
   "execution_count": 48,
   "metadata": {},
   "outputs": [
    {
     "data": {
      "text/plain": [
       "{'question': 'who wrote Self-Guided Diffusion Models?',\n",
       " 'answer': ' Vincent Tao Hu, David W Zhang, Yuki M Asano, Gertjan J Burghouts, and Cees G M Snoek.\\n',\n",
       " 'sources': ''}"
      ]
     },
     "execution_count": 48,
     "metadata": {},
     "output_type": "execute_result"
    }
   ],
   "source": [
    "chain.invoke({\"question\": 'who wrote Self-Guided Diffusion Models?'})"
   ]
  },
  {
   "cell_type": "code",
   "execution_count": 49,
   "metadata": {},
   "outputs": [
    {
     "data": {
      "text/plain": [
       "{'question': 'who wrote DiGress: Discrete Denoising diffusion for graph generation?',\n",
       " 'answer': ' Denoising diffusion probabilistic models were written by Jonathan Ho, Ajay Jain, and Pieter Abbeel.\\n',\n",
       " 'sources': '33f3f31f871070f19b0c3e967a24e322bfc178f2, 33, 280, 22, 281, 23, and 282.'}"
      ]
     },
     "execution_count": 49,
     "metadata": {},
     "output_type": "execute_result"
    }
   ],
   "source": [
    "chain.invoke({\"question\": 'who wrote DiGress: Discrete Denoising diffusion for graph generation?'})"
   ]
  }
 ],
 "metadata": {
  "kernelspec": {
   "display_name": ".venv",
   "language": "python",
   "name": "python3"
  },
  "language_info": {
   "codemirror_mode": {
    "name": "ipython",
    "version": 3
   },
   "file_extension": ".py",
   "mimetype": "text/x-python",
   "name": "python",
   "nbconvert_exporter": "python",
   "pygments_lexer": "ipython3",
   "version": "3.10.9"
  }
 },
 "nbformat": 4,
 "nbformat_minor": 2
}
