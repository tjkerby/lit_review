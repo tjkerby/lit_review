{
 "cells": [
  {
   "cell_type": "code",
   "execution_count": 1,
   "metadata": {},
   "outputs": [],
   "source": [
    "import json\n",
    "import sys\n",
    "\n",
    "sys.path.append('C:/Users/tjker/Desktop/Research/Projects/lit_review/lit_review')\n",
    "import kg_builder as kgb\n",
    "import utils\n",
    "\n",
    "sys.path.append('C:/Users/tjker/Desktop/Research/Projects/lit_review/configs')\n",
    "from create_chunks_config import config\n",
    "\n",
    "kg = utils.load_kg(config)"
   ]
  },
  {
   "cell_type": "code",
   "execution_count": 2,
   "metadata": {},
   "outputs": [],
   "source": [
    "kgb.prepare_chunks_from_urls(config, kg)"
   ]
  },
  {
   "cell_type": "markdown",
   "metadata": {},
   "source": [
    "After running the cell above I manually added the urls for each of these paper's pdf files and renamed it as paper_node_to_url_pdf.json"
   ]
  },
  {
   "cell_type": "code",
   "execution_count": 3,
   "metadata": {},
   "outputs": [
    {
     "name": "stdout",
     "output_type": "stream",
     "text": [
      "PDF already exists: C:/Users/tjker/Desktop/Research/Projects/lit_review/data/paper_pdfs/ca743e75ce090bbf686307e41bd8747661768fbe.pdf\n",
      "PDF already exists: C:/Users/tjker/Desktop/Research/Projects/lit_review/data/paper_pdfs/e342165a614588878ad0f4bc9bacf3905df34d08.pdf\n",
      "PDF already exists: C:/Users/tjker/Desktop/Research/Projects/lit_review/data/paper_pdfs/4f1502111d35aa6651dfaedfeb1184b3c3dd2fcb.pdf\n",
      "PDF already exists: C:/Users/tjker/Desktop/Research/Projects/lit_review/data/paper_pdfs/3333fa6dc9d39cad3d5cd87da9ae39e5a6aefe27.pdf\n",
      "PDF already exists: C:/Users/tjker/Desktop/Research/Projects/lit_review/data/paper_pdfs/36a5328c337697b96c9e6a9a04df0c924aa421f7.pdf\n",
      "PDF already exists: C:/Users/tjker/Desktop/Research/Projects/lit_review/data/paper_pdfs/0bbd619ad6dfb69114735d6d8ca166c20301188b.pdf\n",
      "PDF already exists: C:/Users/tjker/Desktop/Research/Projects/lit_review/data/paper_pdfs/2cfb086b6414e990a2203da746c05ba0c0638134.pdf\n",
      "PDF already exists: C:/Users/tjker/Desktop/Research/Projects/lit_review/data/paper_pdfs/5a613652d700f9a271b6d01c7d9e4223e9883300.pdf\n",
      "PDF already exists: C:/Users/tjker/Desktop/Research/Projects/lit_review/data/paper_pdfs/b798c925a4c43ea09e76a1c748491ef70067c0c6.pdf\n",
      "PDF already exists: C:/Users/tjker/Desktop/Research/Projects/lit_review/data/paper_pdfs/019abc8974dd46d7eec9a51818f64cc896c66499.pdf\n",
      "PDF already exists: C:/Users/tjker/Desktop/Research/Projects/lit_review/data/paper_pdfs/efbe97d20c4ffe356e8826c01dc550bacc405add.pdf\n",
      "PDF already exists: C:/Users/tjker/Desktop/Research/Projects/lit_review/data/paper_pdfs/a02313d56a6f71be9aafe43628e0f3a1d0cb858e.pdf\n",
      "PDF already exists: C:/Users/tjker/Desktop/Research/Projects/lit_review/data/paper_pdfs/d7074976c2609568902a6b6ca45f6c71d9cb66bf.pdf\n",
      "PDF already exists: C:/Users/tjker/Desktop/Research/Projects/lit_review/data/paper_pdfs/36a5328c337697b96c9e6a9a04df0c924aa421f7.pdf\n",
      "PDF already exists: C:/Users/tjker/Desktop/Research/Projects/lit_review/data/paper_pdfs/04e541391e8dce14d099d00fb2c21dbbd8afe87f.pdf\n",
      "PDF already exists: C:/Users/tjker/Desktop/Research/Projects/lit_review/data/paper_pdfs/dc563ae2179a79a3b58749bc142a719e009d6cc5.pdf\n",
      "PDF already exists: C:/Users/tjker/Desktop/Research/Projects/lit_review/data/paper_pdfs/c27da349811cbbafd5896befb0bb138d87583873.pdf\n",
      "PDF already exists: C:/Users/tjker/Desktop/Research/Projects/lit_review/data/paper_pdfs/e993d5d057af8993e89c73500cb0bc89b851b225.pdf\n",
      "PDF already exists: C:/Users/tjker/Desktop/Research/Projects/lit_review/data/paper_pdfs/d9822d11ae4ead1f1d32c43124a6a0eb80ea4f0c.pdf\n",
      "PDF already exists: C:/Users/tjker/Desktop/Research/Projects/lit_review/data/paper_pdfs/a64e9fe44051d93202853a43656def4b44f84883.pdf\n",
      "PDF already exists: C:/Users/tjker/Desktop/Research/Projects/lit_review/data/paper_pdfs/b916302feec5be76fc4aa935202008f6ae638efa.pdf\n",
      "PDF already exists: C:/Users/tjker/Desktop/Research/Projects/lit_review/data/paper_pdfs/f8d56373df3023f36af2a0c45cd371bf9fe924a8.pdf\n",
      "PDF already exists: C:/Users/tjker/Desktop/Research/Projects/lit_review/data/paper_pdfs/62f1ba6f5a7ad125dd62261fb5fec1a125232c8c.pdf\n",
      "PDF already exists: C:/Users/tjker/Desktop/Research/Projects/lit_review/data/paper_pdfs/33f3f31f871070f19b0c3e967a24e322bfc178f2.pdf\n",
      "PDF already exists: C:/Users/tjker/Desktop/Research/Projects/lit_review/data/paper_pdfs/b582edb16f5425642767cb6c26839111f867f4dc.pdf\n",
      "PDF already exists: C:/Users/tjker/Desktop/Research/Projects/lit_review/data/paper_pdfs/b000d6865db824af1563708fb7a545ddd65c6b3a.pdf\n",
      "PDF already exists: C:/Users/tjker/Desktop/Research/Projects/lit_review/data/paper_pdfs/e27b881192cd14a04018c372352b12e531870fc1.pdf\n"
     ]
    }
   ],
   "source": [
    "kgb.download_pdfs_from_urls(config, verbose=True)"
   ]
  }
 ],
 "metadata": {
  "kernelspec": {
   "display_name": ".venv",
   "language": "python",
   "name": "python3"
  },
  "language_info": {
   "codemirror_mode": {
    "name": "ipython",
    "version": 3
   },
   "file_extension": ".py",
   "mimetype": "text/x-python",
   "name": "python",
   "nbconvert_exporter": "python",
   "pygments_lexer": "ipython3",
   "version": "3.10.9"
  }
 },
 "nbformat": 4,
 "nbformat_minor": 2
}
