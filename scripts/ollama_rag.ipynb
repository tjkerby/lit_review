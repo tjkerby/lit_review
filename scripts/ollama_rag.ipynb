{
 "cells": [
  {
   "cell_type": "code",
   "execution_count": 8,
   "metadata": {},
   "outputs": [],
   "source": [
    "import sys\n",
    "sys.path.append('/home/TomKerby/Research/lit_review/lit_review')\n",
    "import utils\n",
    "import rag_utils as rag\n",
    "\n",
    "sys.path.append('/home/TomKerby/Research/lit_review/configs')\n",
    "# from rag_config import config\n",
    "from new_llm_config import config\n",
    "# from huggingface_rag import config\n",
    "\n",
    "kg = utils.load_kg(config)\n",
    "llm_adapter = rag.get_llm(config)\n",
    "emb_adapter = rag.get_embeddings(config)"
   ]
  },
  {
   "cell_type": "code",
   "execution_count": 9,
   "metadata": {},
   "outputs": [
    {
     "name": "stdout",
     "output_type": "stream",
     "text": [
      "<think>\n",
      "Alright, I need to figure out how to answer the question about leveraging the structure of a latent space to influence generation in diffusion models based on the provided context. Let me go through each search document and extract relevant information.\n",
      "\n",
      "First, looking at the context, several documents mention editing in the latent space. For example, one talks about semantic latent spaces and using vector arithmetic for image manipulation. Another discusses the \"h-space\" where edits can be done by traversing along certain directions. This suggests that identifying meaningful directions or bases in the latent space allows for controlled generation.\n",
      "\n",
      "I also see mentions of methods like Stepwise Variation Regularization which smoothens the latent space, making interpolations and edits more effective. This indicates that modifying how the model navigates the latent space can enhance generation quality.\n",
      "\n",
      "Some documents refer to using encoders to capture hierarchical semantic features, implying that structured representations in the latent space help in conditional generation. Additionally, techniques like guidance or finetuning are hinted at as ways to influence outputs by adjusting latent variables.\n",
      "\n",
      "Overall, the key points I gather are: vector arithmetic for edits, structured hierarchical features, guiding the generation process through latent variables, and using intermediate bottlenecks as semantic spaces.\n",
      "</think>\n",
      "\n",
      "To leverage the structure of a latent space in diffusion models for influencing generation, several approaches can be employed:\n",
      "\n",
      "1. **Vector Arithmetic**: Utilize vector operations within the latent space to perform semantic image manipulations, allowing for controlled edits by traversing along specific directions.\n",
      "\n",
      "2. **Hierarchical Semantic Features**: Employ encoders to capture structured representations at different levels of abstraction, enhancing conditional generation capabilities and enabling more intricate pattern capturing.\n",
      "\n",
      "3. **Guidance Techniques**: Adjust latent variables during the generation process through guidance methods, which can steer the output towards desired attributes or styles.\n",
      "\n",
      "4. **Intermediate Bottlenecks as Semantic Spaces**: Identify and use bottleneck layers in the model architecture as a semantic space (e.g., \"h-space\") for effective image editing by manipulating these intermediate representations.\n",
      "\n",
      "These techniques collectively enhance the controllability and quality of generated outputs in diffusion models."
     ]
    }
   ],
   "source": [
    "custom_query = \"\"\"\n",
    "MATCH (c:Chunk)\n",
    "WITH DISTINCT c, vector.similarity.cosine(c.textEmbedding, $embedding) AS score\n",
    "ORDER BY score DESC LIMIT $k\n",
    "RETURN c.text AS text, score, {source: c.source, chunkId: c.chunkId} AS metadata\n",
    "\"\"\"\n",
    "\n",
    "prompt_template = \"\"\"\n",
    "You are an expert in generative models. Based on the following context, provide a concise answer to the question. \n",
    "If the context lacks the requested information simply state that you do not know.\n",
    "\n",
    "Context:\n",
    "{context}\n",
    "\n",
    "Question:\n",
    "{question}\n",
    "\n",
    "Answer:\n",
    "\"\"\"\n",
    "\n",
    "question = \"What are some ways that you can leverage the structure of a latent space to influence generation in a diffusion model?\"\n",
    "\n",
    "rag.query_kg(question, \n",
    "    llm_adapter, \n",
    "    emb_adapter, \n",
    "    kg, \n",
    "    config, \n",
    "    custom_query, \n",
    "    prompt_template, \n",
    "    k=10\n",
    ")"
   ]
  },
  {
   "cell_type": "code",
   "execution_count": null,
   "metadata": {},
   "outputs": [],
   "source": [
    "from langchain.memory import ConversationSummaryBufferMemory\n",
    "from langchain.chains import ConversationChain\n",
    "\n",
    "llm_adapter = rag.get_llm_with_memory(config)  # Use wrapped adapter\n",
    "\n",
    "memory = ConversationSummaryBufferMemory(\n",
    "    llm=llm_adapter, \n",
    "    memory_key='history', \n",
    "    max_token_limit=4096\n",
    ")\n",
    "\n",
    "conversation = ConversationChain(\n",
    "    llm=llm_adapter, \n",
    "    memory=memory,\n",
    "    verbose=True\n",
    ")\n",
    "\n",
    "conversation.predict(input=\"What is the reason that some people are more self conscious than others?\")"
   ]
  },
  {
   "cell_type": "code",
   "execution_count": 6,
   "metadata": {},
   "outputs": [
    {
     "name": "stdout",
     "output_type": "stream",
     "text": [
      "\n",
      "\n",
      "\u001b[1m> Entering new ConversationChain chain...\u001b[0m\n",
      "Prompt after formatting:\n",
      "\u001b[32;1m\u001b[1;3mThe following is a friendly conversation between a human and an AI. The AI is talkative and provides lots of specific details from its context. If the AI does not know the answer to a question, it truthfully says it does not know.\n",
      "\n",
      "Current conversation:\n",
      "Human: What is the reason that some people are more self conscious than others?\n",
      "AI: <think>\n",
      "Okay, so I'm trying to figure out why some people are more self-conscious than others. Hmm, where do I even start? Maybe it's something to do with how they were raised or their environment. Like, if someone grew up in a really critical household, maybe they developed lower self-esteem because they were always being told they weren't good enough. That makes sense because if you're constantly criticized, you might start believing those negative things about yourself.\n",
      "\n",
      "Or could it be related to past experiences? For example, if someone was bullied as a kid, that might make them more aware of their flaws or differences, leading to higher self-consciousness. I remember reading somewhere that bullying can have long-term effects on self-esteem and body image, so that seems plausible.\n",
      "\n",
      "Another angle is personality traits. Some people are naturally more introverted or sensitive, which might make them more self-aware in social situations. They could overthink how others perceive them because they're more attuned to their surroundings and the reactions of others. On the other hand, extroverts might be less self-conscious because they're focused on interacting rather than analyzing themselves.\n",
      "\n",
      "Cultural factors also play a role, I think. In some cultures, there's a lot of emphasis on community and fitting in, which could make individuals more aware of how they appear to others. In contrast, individualistic cultures might encourage people to focus less on what others think and more on personal goals, potentially reducing self-consciousness.\n",
      "\n",
      "Then there's the aspect of social media. People who use platforms like Instagram or Facebook a lot are exposed to curated images and highlight reels of others' lives. This can create unrealistic comparisons and make them feel inadequate or overly aware of their own appearance and achievements. Social media definitely amplifies the tendency to compare oneself to others, which can heighten self-consciousness.\n",
      "\n",
      "Additionally, mental health issues like anxiety or depression might contribute. For instance, someone with social anxiety might be extremely self-conscious in public settings because they fear judgment. Their anxiety could make them hyper-aware of their actions and appearance, exacerbating feelings of self-consciousness.\n",
      "\n",
      "Brain structure and function might also influence this. I've heard that areas of the brain responsible for self-reflection and emotional processing can vary between individuals. If someone's brain is more active in these regions, they might naturally be more introspective and self-aware, leading to higher self-consciousness.\n",
      "\n",
      "Learning and past experiences could shape behavior too. Positive reinforcement can build confidence, reducing self-consciousness, while negative experiences might do the opposite. For example, if a person has had positive social interactions where they felt accepted, they're less likely to be self-conscious in similar situations in the future.\n",
      "\n",
      "I wonder about the role of feedback as well. People who receive constructive criticism might learn from it without becoming overly self-conscious, whereas those who mainly get negative feedback might develop a more critical self-image. It's all about how they process and internalize that feedback.\n",
      "\n",
      "So putting this all together, it seems like a mix of upbringing, personality traits, cultural influences, social media exposure, mental health, brain function, and past experiences all contribute to why some people are more self-conscious than others. Each person has a unique combination of these factors, which explains the variation in levels of self-consciousness.\n",
      "</think>\n",
      "\n",
      "The variation in levels of self-consciousness among individuals can be attributed to a multifaceted interplay of several factors:\n",
      "\n",
      "1. **Upbringing and Environment**: Growing up in a critical household may lead to lower self-esteem and increased self-consciousness due to constant negative feedback.\n",
      "\n",
      "2. **Past Experiences**: Traumatic events like bullying can have lasting effects, making individuals more aware of their perceived flaws or differences.\n",
      "\n",
      "3. **Personality Traits**: Introverted or sensitive personalities might be more prone to overthinking social interactions, heightening self-awareness.\n",
      "\n",
      "4. **Cultural Influences**: Cultures emphasizing community may increase self-consciousness by focusing on fitting in, whereas individualistic cultures might reduce it.\n",
      "\n",
      "5. **Social Media Exposure**: Frequent use of platforms showcasing curated images can foster unrealistic comparisons and heightened self-awareness.\n",
      "\n",
      "6. **Mental Health**: Conditions like social anxiety can amplify self-consciousness due to fear of judgment in public settings.\n",
      "\n",
      "7. **Brain Structure and Function**: Variations in brain regions responsible for self-reflection may naturally lead some individuals to be more introspective.\n",
      "\n",
      "8. **Learning and Feedback**: Positive experiences and constructive feedback can build confidence, whereas negative feedback might increase self-consciousness.\n",
      "\n",
      "In conclusion, the unique combination of these factors—upbringing, personality, culture, social media, mental health, brain function, and past experiences—explains why some individuals are more self-conscious than others.\n",
      "Human: Can you explain why these past experiences are so critical to answering this question?\n",
      "AI:\u001b[0m\n",
      "\n",
      "\u001b[1m> Finished chain.\u001b[0m\n"
     ]
    },
    {
     "data": {
      "text/plain": [
       "\"\\n\\nCertainly! Past experiences play a crucial role in shaping an individual's level of self-consciousness because they influence how one perceives themselves and their place within social contexts. Here’s a detailed breakdown:\\n\\n1. **Shaping Self-Perception**: Experiences, especially those occurring during formative years, contribute to the development of self-esteem and body image. Positive experiences can foster confidence, while negative ones may lead to self-doubt.\\n\\n2. **Informing Social Interactions**: Past interactions dictate expectations in new social situations. Someone who has faced rejection or bullying might anticipate similar outcomes, heightening their self-consciousness in future interactions.\\n\\n3. **Conditioning Behavioral Responses**: Traumatic experiences can condition individuals to be hypervigilant about others' perceptions, leading to heightened self-awareness as a protective mechanism against further negative experiences.\\n\\n4. **Influencing Coping Mechanisms**: The strategies developed to deal with past adversities—whether adaptive or maladaptive—affect how one navigates social environments and their level of comfort within them.\\n\\n5. **Impact on Mental Health**: Negative past experiences can contribute to mental health issues like anxiety or depression, which often manifest as increased self-consciousness in social settings.\\n\\nIn essence, past experiences are foundational because they mold an individual's perceptions, expectations, and behaviors, all of which significantly influence their level of self-consciousness.\""
      ]
     },
     "execution_count": 6,
     "metadata": {},
     "output_type": "execute_result"
    }
   ],
   "source": [
    "conversation.predict(input=\"Can you explain why these past experiences are so critical to answering this question?\")"
   ]
  },
  {
   "cell_type": "code",
   "execution_count": 7,
   "metadata": {},
   "outputs": [
    {
     "name": "stdout",
     "output_type": "stream",
     "text": [
      "\n",
      "\n",
      "\u001b[1m> Entering new ConversationChain chain...\u001b[0m\n",
      "Prompt after formatting:\n",
      "\u001b[32;1m\u001b[1;3mThe following is a friendly conversation between a human and an AI. The AI is talkative and provides lots of specific details from its context. If the AI does not know the answer to a question, it truthfully says it does not know.\n",
      "\n",
      "Current conversation:\n",
      "Human: What is the reason that some people are more self conscious than others?\n",
      "AI: <think>\n",
      "Okay, so I'm trying to figure out why some people are more self-conscious than others. Hmm, where do I even start? Maybe it's something to do with how they were raised or their environment. Like, if someone grew up in a really critical household, maybe they developed lower self-esteem because they were always being told they weren't good enough. That makes sense because if you're constantly criticized, you might start believing those negative things about yourself.\n",
      "\n",
      "Or could it be related to past experiences? For example, if someone was bullied as a kid, that might make them more aware of their flaws or differences, leading to higher self-consciousness. I remember reading somewhere that bullying can have long-term effects on self-esteem and body image, so that seems plausible.\n",
      "\n",
      "Another angle is personality traits. Some people are naturally more introverted or sensitive, which might make them more self-aware in social situations. They could overthink how others perceive them because they're more attuned to their surroundings and the reactions of others. On the other hand, extroverts might be less self-conscious because they're focused on interacting rather than analyzing themselves.\n",
      "\n",
      "Cultural factors also play a role, I think. In some cultures, there's a lot of emphasis on community and fitting in, which could make individuals more aware of how they appear to others. In contrast, individualistic cultures might encourage people to focus less on what others think and more on personal goals, potentially reducing self-consciousness.\n",
      "\n",
      "Then there's the aspect of social media. People who use platforms like Instagram or Facebook a lot are exposed to curated images and highlight reels of others' lives. This can create unrealistic comparisons and make them feel inadequate or overly aware of their own appearance and achievements. Social media definitely amplifies the tendency to compare oneself to others, which can heighten self-consciousness.\n",
      "\n",
      "Additionally, mental health issues like anxiety or depression might contribute. For instance, someone with social anxiety might be extremely self-conscious in public settings because they fear judgment. Their anxiety could make them hyper-aware of their actions and appearance, exacerbating feelings of self-consciousness.\n",
      "\n",
      "Brain structure and function might also influence this. I've heard that areas of the brain responsible for self-reflection and emotional processing can vary between individuals. If someone's brain is more active in these regions, they might naturally be more introspective and self-aware, leading to higher self-consciousness.\n",
      "\n",
      "Learning and past experiences could shape behavior too. Positive reinforcement can build confidence, reducing self-consciousness, while negative experiences might do the opposite. For example, if a person has had positive social interactions where they felt accepted, they're less likely to be self-conscious in similar situations in the future.\n",
      "\n",
      "I wonder about the role of feedback as well. People who receive constructive criticism might learn from it without becoming overly self-conscious, whereas those who mainly get negative feedback might develop a more critical self-image. It's all about how they process and internalize that feedback.\n",
      "\n",
      "So putting this all together, it seems like a mix of upbringing, personality traits, cultural influences, social media exposure, mental health, brain function, and past experiences all contribute to why some people are more self-conscious than others. Each person has a unique combination of these factors, which explains the variation in levels of self-consciousness.\n",
      "</think>\n",
      "\n",
      "The variation in levels of self-consciousness among individuals can be attributed to a multifaceted interplay of several factors:\n",
      "\n",
      "1. **Upbringing and Environment**: Growing up in a critical household may lead to lower self-esteem and increased self-consciousness due to constant negative feedback.\n",
      "\n",
      "2. **Past Experiences**: Traumatic events like bullying can have lasting effects, making individuals more aware of their perceived flaws or differences.\n",
      "\n",
      "3. **Personality Traits**: Introverted or sensitive personalities might be more prone to overthinking social interactions, heightening self-awareness.\n",
      "\n",
      "4. **Cultural Influences**: Cultures emphasizing community may increase self-consciousness by focusing on fitting in, whereas individualistic cultures might reduce it.\n",
      "\n",
      "5. **Social Media Exposure**: Frequent use of platforms showcasing curated images can foster unrealistic comparisons and heightened self-awareness.\n",
      "\n",
      "6. **Mental Health**: Conditions like social anxiety can amplify self-consciousness due to fear of judgment in public settings.\n",
      "\n",
      "7. **Brain Structure and Function**: Variations in brain regions responsible for self-reflection may naturally lead some individuals to be more introspective.\n",
      "\n",
      "8. **Learning and Feedback**: Positive experiences and constructive feedback can build confidence, whereas negative feedback might increase self-consciousness.\n",
      "\n",
      "In conclusion, the unique combination of these factors—upbringing, personality, culture, social media, mental health, brain function, and past experiences—explains why some individuals are more self-conscious than others.\n",
      "Human: Can you explain why these past experiences are so critical to answering this question?\n",
      "AI: \n",
      "\n",
      "Certainly! Past experiences play a crucial role in shaping an individual's level of self-consciousness because they influence how one perceives themselves and their place within social contexts. Here’s a detailed breakdown:\n",
      "\n",
      "1. **Shaping Self-Perception**: Experiences, especially those occurring during formative years, contribute to the development of self-esteem and body image. Positive experiences can foster confidence, while negative ones may lead to self-doubt.\n",
      "\n",
      "2. **Informing Social Interactions**: Past interactions dictate expectations in new social situations. Someone who has faced rejection or bullying might anticipate similar outcomes, heightening their self-consciousness in future interactions.\n",
      "\n",
      "3. **Conditioning Behavioral Responses**: Traumatic experiences can condition individuals to be hypervigilant about others' perceptions, leading to heightened self-awareness as a protective mechanism against further negative experiences.\n",
      "\n",
      "4. **Influencing Coping Mechanisms**: The strategies developed to deal with past adversities—whether adaptive or maladaptive—affect how one navigates social environments and their level of comfort within them.\n",
      "\n",
      "5. **Impact on Mental Health**: Negative past experiences can contribute to mental health issues like anxiety or depression, which often manifest as increased self-consciousness in social settings.\n",
      "\n",
      "In essence, past experiences are foundational because they mold an individual's perceptions, expectations, and behaviors, all of which significantly influence their level of self-consciousness.\n",
      "Human: What is the answer to 3 - 2 * 425?\n",
      "AI:\u001b[0m\n",
      "\n",
      "\u001b[1m> Finished chain.\u001b[0m\n"
     ]
    },
    {
     "data": {
      "text/plain": [
       "\"<think>\\nOkay, so I need to solve this math problem: 3 minus 2 multiplied by 425. Hmm, let's break it down step by step.\\n\\nFirst, I remember that in mathematics, there's an order of operations, often remembered by PEMDAS—Parentheses, Exponents, Multiplication and Division (from left to right), Addition and Subtraction (from left to right). So, according to this rule, I should handle the multiplication before the subtraction.\\n\\nThe problem is 3 - 2 * 425. There are no parentheses or exponents here, so I start with multiplication. That means I need to multiply 2 by 425 first.\\n\\nLet me calculate that: 2 times 425. Well, 2 times 400 is 800, and 2 times 25 is 50. So adding those together, 800 plus 50 equals 850. Therefore, 2 multiplied by 425 is 850.\\n\\nNow the problem simplifies to 3 minus 850. Subtracting 850 from 3 gives me... hmm, that would be negative because 850 is larger than 3. So, 3 minus 850 equals -847.\\n\\nWait a minute, let me double-check my multiplication to make sure I didn't make a mistake there. 2 times 425: 425 plus 425. 400 plus 400 is 800, and 25 plus 25 is 50. Adding those gives 850. Yep, that's correct.\\n\\nAnd then subtracting 850 from 3: yes, that definitely results in -847. Okay, I think that's the right answer.\\n</think>\\n\\nThe result of the calculation \\\\( 3 - 2 \\\\times 425 \\\\) is determined by following the order of operations (PEMDAS). \\n\\n1. **Multiplication First**: Calculate \\\\( 2 \\\\times 425 = 850 \\\\).\\n2. **Subtraction Next**: Subtract this result from 3: \\\\( 3 - 850 = -847 \\\\).\\n\\n**Answer:** \\\\(-847\\\\)\""
      ]
     },
     "execution_count": 7,
     "metadata": {},
     "output_type": "execute_result"
    }
   ],
   "source": [
    "conversation.predict(input=\"What is the answer to 3 - 2 * 425?\")"
   ]
  }
 ],
 "metadata": {
  "kernelspec": {
   "display_name": ".venv",
   "language": "python",
   "name": "python3"
  },
  "language_info": {
   "codemirror_mode": {
    "name": "ipython",
    "version": 3
   },
   "file_extension": ".py",
   "mimetype": "text/x-python",
   "name": "python",
   "nbconvert_exporter": "python",
   "pygments_lexer": "ipython3",
   "version": "3.11.10"
  }
 },
 "nbformat": 4,
 "nbformat_minor": 2
}
