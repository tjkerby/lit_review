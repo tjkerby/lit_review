{
 "cells": [
  {
   "cell_type": "code",
   "execution_count": 1,
   "metadata": {},
   "outputs": [],
   "source": [
    "import sys\n",
    "sys.path.append('/home/TomKerby/Research/lit_review/lit_review')\n",
    "import utils\n",
    "import rag_utils as rag\n",
    "\n",
    "sys.path.append('/home/TomKerby/Research/lit_review/configs')\n",
    "# from rag_config import config\n",
    "from new_llm_config import config\n",
    "# from huggingface_rag import config\n",
    "\n",
    "kg = utils.load_kg(config)\n",
    "llm_adapter = rag.get_llm(config)\n",
    "emb_adapter = rag.get_embeddings(config)"
   ]
  },
  {
   "cell_type": "code",
   "execution_count": 2,
   "metadata": {},
   "outputs": [
    {
     "name": "stdout",
     "output_type": "stream",
     "text": [
      "<think>\n",
      "Okay, so I need to figure out how to answer the question: \"What are some ways that you can leverage the structure of a latent space to influence generation in a diffusion model?\" based on the provided context. Let me go through each search document and extract relevant information.\n",
      "\n",
      "First, from the context, it seems that several papers discuss different approaches to using the latent space in diffusion models for various tasks like image editing, semantic manipulation, etc. \n",
      "\n",
      "In one of the documents, they talk about the \"h-space\" which has properties similar to GANs' latent spaces—homogeneity, linearity, robustness, and consistency across timesteps. This suggests that vector arithmetic can be used in this space for editing. So, one method is using semantic directions in h-space.\n",
      "\n",
      "Another document mentions using a structured approach to capture hierarchical semantic features. They employ a method where the latent variables are manipulated by predicting noise from xt, which allows for denoising steps. This could mean that by understanding how the model predicts noise, we can influence generation.\n",
      "\n",
      "There's also mention of vector arithmetic in the semantic latent space, like adding or subtracting vectors to achieve specific edits. This is a common technique in GANs and seems applicable here too.\n",
      "\n",
      "The context discusses using the bottleneck activation of the UNet denoising model as a suitable space for semantic manipulation. So, another method could be focusing on this bottleneck layer for editing.\n",
      "\n",
      "They talk about global and image-specific semantic directions. Global directions are general edits (like making images brighter), while image-specific ones are tailored to individual images. This suggests that both types can be leveraged.\n",
      "\n",
      "Another approach is using non-Gaussian noise spaces which are more amenable to semantic editing, as proposed by some researchers. This deviates from traditional methods and might offer better control over generation.\n",
      "\n",
      "The use of Riemannian geometry to analyze the latent space's structure is mentioned. By understanding the geometric properties, like tangent spaces and basis vectors, one can perform edits by traversing these bases.\n",
      "\n",
      "They also mention conditional generation, where the model is conditioned on various inputs (like captions or segmentation maps) to influence output. This ties into how conditioning can shape the latent space usage.\n",
      "\n",
      "Lastly, some methods involve training encoders to produce low-dimensional latent variables that assist in generation, allowing for more controlled and meaningful image representations.\n",
      "\n",
      "Putting this all together, there are multiple strategies: using semantic directions in h-space, vector arithmetic, focusing on bottleneck layers, employing global and specific editing directions, exploring non-Gaussian noise, leveraging geometric analysis, conditioning the model, and training encoders for better latent representations.\n",
      "</think>\n",
      "\n",
      "To influence generation in diffusion models by leveraging their latent space structure, several strategies can be employed:\n",
      "\n",
      "1. **Semantic Directions in h-space**: Utilize the h-space, which exhibits properties like homogeneity and linearity, to perform semantic image editing through vector arithmetic.\n",
      "\n",
      "2. **Vector Arithmetic**: Apply operations such as addition or subtraction of vectors within the latent space to achieve specific edits, similar to techniques used in GANs.\n",
      "\n",
      "3. **Bottleneck Activation Manipulation**: Target the bottleneck layer of the UNet denoising model for semantic manipulation, as it serves as a suitable space for editing tasks.\n",
      "\n",
      "4. **Global and Image-Specific Directions**: Employ both general (global) and image-specific directions to apply edits, allowing for versatile modifications across different images.\n",
      "\n",
      "5. **Non-Gaussian Noise Spaces**: Explore alternative noise distributions that are more conducive to semantic editing, offering improved control over generation.\n",
      "\n",
      "6. **Geometric Analysis with Riemannian Geometry**: Analyze the latent space's structure using geometric methods to understand tangent spaces and basis vectors, enabling edits through traversal of these elements.\n",
      "\n",
      "7. **Conditional Generation**: Condition the model on various inputs (e.g., captions, segmentation maps) to influence the generation process and shape the output effectively.\n",
      "\n",
      "8. **Encoder-Based Latent Variables**: Train encoders to produce low-dimensional latent variables that assist in controlled and meaningful image generation.\n",
      "\n",
      "These methods collectively provide a comprehensive approach to leveraging the structure of latent spaces in diffusion models for effective and versatile generation tasks."
     ]
    }
   ],
   "source": [
    "custom_query = \"\"\"\n",
    "MATCH (c:Chunk)\n",
    "WITH DISTINCT c, vector.similarity.cosine(c.textEmbedding, $embedding) AS score\n",
    "ORDER BY score DESC LIMIT $k\n",
    "RETURN c.text AS text, score, {source: c.source, chunkId: c.chunkId} AS metadata\n",
    "\"\"\"\n",
    "\n",
    "prompt_template = \"\"\"\n",
    "You are an expert in generative models. Based on the following context, provide a concise answer to the question. \n",
    "If the context lacks the requested information simply state that you do not know.\n",
    "\n",
    "Context:\n",
    "{context}\n",
    "\n",
    "Question:\n",
    "{question}\n",
    "\n",
    "Answer:\n",
    "\"\"\"\n",
    "\n",
    "question = \"What are some ways that you can leverage the structure of a latent space to influence generation in a diffusion model?\"\n",
    "\n",
    "rag.query_kg(question, \n",
    "    llm_adapter, \n",
    "    emb_adapter, \n",
    "    kg, \n",
    "    config, \n",
    "    custom_query, \n",
    "    prompt_template, \n",
    "    k=10\n",
    ")"
   ]
  }
 ],
 "metadata": {
  "kernelspec": {
   "display_name": ".venv",
   "language": "python",
   "name": "python3"
  },
  "language_info": {
   "codemirror_mode": {
    "name": "ipython",
    "version": 3
   },
   "file_extension": ".py",
   "mimetype": "text/x-python",
   "name": "python",
   "nbconvert_exporter": "python",
   "pygments_lexer": "ipython3",
   "version": "3.11.10"
  }
 },
 "nbformat": 4,
 "nbformat_minor": 2
}
