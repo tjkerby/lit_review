{
 "cells": [
  {
   "cell_type": "code",
   "execution_count": 1,
   "metadata": {},
   "outputs": [],
   "source": [
    "import sys\n",
    "sys.path.append('/home/TomKerby/Research/lit_review/lit_review')\n",
    "import utils\n",
    "import rag_utils as rag\n",
    "\n",
    "sys.path.append('/home/TomKerby/Research/lit_review/configs')\n",
    "# from rag_config import config\n",
    "from new_llm_config import config\n",
    "# from huggingface_rag import config\n",
    "\n",
    "kg = utils.load_kg(config)\n",
    "llm_adapter = rag.get_llm(config)\n",
    "emb_adapter = rag.get_embeddings(config)"
   ]
  },
  {
   "cell_type": "code",
   "execution_count": 2,
   "metadata": {},
   "outputs": [
    {
     "name": "stdout",
     "output_type": "stream",
     "text": [
      "Based on the provided context, here are some ways to leverage the structure of a latent space to influence generation in a diffusion model:\n",
      "\n",
      "1. **Vector arithmetic in the semantic latent space**: By discovering global semantic directions or image-specific semantic directions in the latent space, you can perform vector arithmetic operations (e.g., addition, subtraction) to manipulate the generated images.\n",
      "2. **Traversal along the latent basis**: Identifying the latent basis in the latent space allows for editing images by traversing along the basis, enabling control over specific features or attributes of the generated images.\n",
      "3. **Editing strength and quality deficiency at timesteps**: Measuring editing strength and quality deficiency at each timestep can help design a generative process that achieves versatile editing and high-quality image generation.\n",
      "4. **Discovering semantic latent space in frozen pretrained diffusion models**: Analyzing the structure of the latent space in pretrained diffusion models can reveal semantic properties, enabling more effective image editing and manipulation.\n",
      "5. **Using the bottleneck activation as a suitable space for semantic image manipulation**: The bottleneck of the UNet denoising model has been identified as a suitable space for semantic image manipulation in diffusion models.\n",
      "6. **Leveraging Riemannian geometry to understand the latent space**: Analyzing the latent space from a geometrical perspective using Riemannian geometry can provide insights into its structure and properties, enabling more effective generation and editing.\n",
      "\n",
      "These methods demonstrate various ways to leverage the structure of the latent space in diffusion models to influence generation and enable more controllable and high-quality image editing."
     ]
    }
   ],
   "source": [
    "custom_query = \"\"\"\n",
    "MATCH (c:Chunk)\n",
    "WITH DISTINCT c, vector.similarity.cosine(c.textEmbedding, $embedding) AS score\n",
    "ORDER BY score DESC LIMIT $k\n",
    "RETURN c.text AS text, score, {source: c.source, chunkId: c.chunkId} AS metadata\n",
    "\"\"\"\n",
    "\n",
    "prompt_template = \"\"\"\n",
    "You are an expert in generative models. Based on the following context, provide a concise answer to the question. \n",
    "If the context lacks the requested information simply state that you do not know.\n",
    "\n",
    "Context:\n",
    "{context}\n",
    "\n",
    "Question:\n",
    "{question}\n",
    "\n",
    "Answer:\n",
    "\"\"\"\n",
    "\n",
    "question = \"What are some ways that you can leverage the structure of a latent space to influence generation in a diffusion model?\"\n",
    "\n",
    "rag.query_kg(question, \n",
    "    llm_adapter, \n",
    "    emb_adapter, \n",
    "    kg, \n",
    "    config, \n",
    "    custom_query, \n",
    "    prompt_template, \n",
    "    k=10\n",
    ")"
   ]
  },
  {
   "cell_type": "code",
   "execution_count": 3,
   "metadata": {},
   "outputs": [
    {
     "name": "stderr",
     "output_type": "stream",
     "text": [
      "/tmp/ipykernel_3324195/788525161.py:6: LangChainDeprecationWarning: Please see the migration guide at: https://python.langchain.com/docs/versions/migrating_memory/\n",
      "  memory = ConversationSummaryBufferMemory(\n",
      "/tmp/ipykernel_3324195/788525161.py:12: LangChainDeprecationWarning: The class `ConversationChain` was deprecated in LangChain 0.2.7 and will be removed in 1.0. Use :meth:`~RunnableWithMessageHistory: https://python.langchain.com/v0.2/api_reference/core/runnables/langchain_core.runnables.history.RunnableWithMessageHistory.html` instead.\n",
      "  conversation = ConversationChain(\n"
     ]
    },
    {
     "name": "stdout",
     "output_type": "stream",
     "text": [
      "\n",
      "\n",
      "\u001b[1m> Entering new ConversationChain chain...\u001b[0m\n",
      "Prompt after formatting:\n",
      "\u001b[32;1m\u001b[1;3mThe following is a friendly conversation between a human and an AI. The AI is talkative and provides lots of specific details from its context. If the AI does not know the answer to a question, it truthfully says it does not know.\n",
      "\n",
      "Current conversation:\n",
      "\n",
      "Human: What is the reason that some people are more self conscious than others?\n",
      "AI:\u001b[0m\n",
      "\n",
      "\u001b[1m> Finished chain.\u001b[0m\n"
     ]
    },
    {
     "data": {
      "text/plain": [
       "'You see, research suggests that self-consciousness can be influenced by a combination of genetic, environmental, and social factors. For instance, studies have shown that individuals with a family history of anxiety or depression may be more prone to self-consciousness due to the potential inheritance of certain personality traits.\\n\\nAdditionally, life experiences such as bullying, social rejection, or trauma can also contribute to increased self-consciousness in some people. This is because these negative experiences can lead to the development of negative self-talk and a heightened sense of self-awareness, making individuals more critical of themselves and their actions.\\n\\nFrom a psychological perspective, the concept of self-consciousness is closely related to the idea of the \"looking-glass self,\" which was first introduced by sociologist Charles Cooley in 1902. According to this theory, our self-concept is shaped by how we think others perceive us, and people who are more self-conscious may be more attentive to the opinions and reactions of those around them.\\n\\nFurthermore, neuroimaging studies have identified specific brain regions, such as the medial prefrontal cortex and the anterior cingulate cortex, that are involved in self-referential processing and social cognition. These regions can be hyperactive in individuals with high levels of self-consciousness, leading to an increased focus on their own thoughts, feelings, and behaviors.\\n\\nIt\\'s also worth noting that cultural and societal factors can play a significant role in shaping our levels of self-consciousness. For example, some cultures place a strong emphasis on individualism and self-expression, which can lead to increased self-awareness and self-consciousness. In contrast, collectivist cultures may prioritize group harmony over individual concerns, potentially reducing self-consciousness.\\n\\nOverall, the reasons behind varying levels of self-consciousness are complex and multifaceted, involving a dynamic interplay between biological, psychological, social, and cultural factors. Would you like me to elaborate on any of these points or explore other related topics?'"
      ]
     },
     "execution_count": 3,
     "metadata": {},
     "output_type": "execute_result"
    }
   ],
   "source": [
    "from langchain.memory import ConversationSummaryBufferMemory\n",
    "from langchain.chains import ConversationChain\n",
    "\n",
    "llm_adapter = rag.get_llm_with_memory(config)  # Use wrapped adapter\n",
    "\n",
    "memory = ConversationSummaryBufferMemory(\n",
    "    llm=llm_adapter, \n",
    "    memory_key='history', \n",
    "    max_token_limit=4096\n",
    ")\n",
    "\n",
    "conversation = ConversationChain(\n",
    "    llm=llm_adapter, \n",
    "    memory=memory,\n",
    "    verbose=True\n",
    ")\n",
    "\n",
    "conversation.predict(input=\"What is the reason that some people are more self conscious than others?\")"
   ]
  },
  {
   "cell_type": "code",
   "execution_count": 4,
   "metadata": {},
   "outputs": [
    {
     "name": "stdout",
     "output_type": "stream",
     "text": [
      "\n",
      "\n",
      "\u001b[1m> Entering new ConversationChain chain...\u001b[0m\n",
      "Prompt after formatting:\n",
      "\u001b[32;1m\u001b[1;3mThe following is a friendly conversation between a human and an AI. The AI is talkative and provides lots of specific details from its context. If the AI does not know the answer to a question, it truthfully says it does not know.\n",
      "\n",
      "Current conversation:\n",
      "Human: What is the reason that some people are more self conscious than others?\n",
      "AI: You see, research suggests that self-consciousness can be influenced by a combination of genetic, environmental, and social factors. For instance, studies have shown that individuals with a family history of anxiety or depression may be more prone to self-consciousness due to the potential inheritance of certain personality traits.\n",
      "\n",
      "Additionally, life experiences such as bullying, social rejection, or trauma can also contribute to increased self-consciousness in some people. This is because these negative experiences can lead to the development of negative self-talk and a heightened sense of self-awareness, making individuals more critical of themselves and their actions.\n",
      "\n",
      "From a psychological perspective, the concept of self-consciousness is closely related to the idea of the \"looking-glass self,\" which was first introduced by sociologist Charles Cooley in 1902. According to this theory, our self-concept is shaped by how we think others perceive us, and people who are more self-conscious may be more attentive to the opinions and reactions of those around them.\n",
      "\n",
      "Furthermore, neuroimaging studies have identified specific brain regions, such as the medial prefrontal cortex and the anterior cingulate cortex, that are involved in self-referential processing and social cognition. These regions can be hyperactive in individuals with high levels of self-consciousness, leading to an increased focus on their own thoughts, feelings, and behaviors.\n",
      "\n",
      "It's also worth noting that cultural and societal factors can play a significant role in shaping our levels of self-consciousness. For example, some cultures place a strong emphasis on individualism and self-expression, which can lead to increased self-awareness and self-consciousness. In contrast, collectivist cultures may prioritize group harmony over individual concerns, potentially reducing self-consciousness.\n",
      "\n",
      "Overall, the reasons behind varying levels of self-consciousness are complex and multifaceted, involving a dynamic interplay between biological, psychological, social, and cultural factors. Would you like me to elaborate on any of these points or explore other related topics?\n",
      "Human: Can you explain why these past experiences are so critical to answering this question?\n",
      "AI:\u001b[0m\n",
      "\n",
      "\u001b[1m> Finished chain.\u001b[0m\n"
     ]
    },
    {
     "data": {
      "text/plain": [
       "'The significance of past experiences in shaping self-consciousness lies in their ability to influence the development of our self-concept and inform our perceptions of ourselves. You see, when we undergo traumatic or stressful events, such as bullying or social rejection, our brains process these experiences and create lasting impressions that can affect our self-awareness.\\n\\nResearch has shown that adverse childhood experiences, for instance, can lead to changes in the structure and function of the brain, particularly in regions involved in emotional regulation, memory, and social cognition. This can result in a heightened state of hypervigilance, making individuals more attentive to their surroundings and more prone to self-monitoring.\\n\\nMoreover, past experiences can shape our attachment styles, which refer to the way we perceive and interact with others. Individuals with insecure attachment styles, often developed as a result of negative early relationships, may be more likely to experience self-consciousness due to their increased sensitivity to social rejection and criticism.\\n\\nThe concept of \"emotional conditioning\" also comes into play here. Our past experiences can condition us to associate certain situations or stimuli with feelings of anxiety, shame, or embarrassment, leading to a heightened sense of self-awareness in similar contexts. This emotional conditioning can be incredibly powerful, as it can influence our thoughts, feelings, and behaviors even when we\\'re not consciously aware of it.\\n\\nAdditionally, the process of \"rumination\" can also contribute to the significance of past experiences in shaping self-consciousness. Rumination refers to the tendency to repetitively think about and reflect on negative experiences, which can reinforce negative self-talk and perpetuate self-criticism. This can create a vicious cycle, where individuals become increasingly self-aware and critical of themselves, leading to heightened self-consciousness.\\n\\nIt\\'s also worth noting that past experiences can influence our \"self-narrative,\" or the story we tell ourselves about who we are and how we fit into the world. When we experience traumatic or stressful events, it can challenge our existing self-narrative and lead to a re-evaluation of our values, goals, and sense of identity. This process of self-redefinition can be a catalyst for increased self-awareness and self-consciousness.\\n\\nWould you like me to delve deeper into any of these topics or explore how past experiences intersect with other factors that influence self-consciousness?'"
      ]
     },
     "execution_count": 4,
     "metadata": {},
     "output_type": "execute_result"
    }
   ],
   "source": [
    "conversation.predict(input=\"Can you explain why these past experiences are so critical to answering this question?\")"
   ]
  },
  {
   "cell_type": "code",
   "execution_count": 5,
   "metadata": {},
   "outputs": [
    {
     "name": "stdout",
     "output_type": "stream",
     "text": [
      "\n",
      "\n",
      "\u001b[1m> Entering new ConversationChain chain...\u001b[0m\n",
      "Prompt after formatting:\n",
      "\u001b[32;1m\u001b[1;3mThe following is a friendly conversation between a human and an AI. The AI is talkative and provides lots of specific details from its context. If the AI does not know the answer to a question, it truthfully says it does not know.\n",
      "\n",
      "Current conversation:\n",
      "Human: What is the reason that some people are more self conscious than others?\n",
      "AI: You see, research suggests that self-consciousness can be influenced by a combination of genetic, environmental, and social factors. For instance, studies have shown that individuals with a family history of anxiety or depression may be more prone to self-consciousness due to the potential inheritance of certain personality traits.\n",
      "\n",
      "Additionally, life experiences such as bullying, social rejection, or trauma can also contribute to increased self-consciousness in some people. This is because these negative experiences can lead to the development of negative self-talk and a heightened sense of self-awareness, making individuals more critical of themselves and their actions.\n",
      "\n",
      "From a psychological perspective, the concept of self-consciousness is closely related to the idea of the \"looking-glass self,\" which was first introduced by sociologist Charles Cooley in 1902. According to this theory, our self-concept is shaped by how we think others perceive us, and people who are more self-conscious may be more attentive to the opinions and reactions of those around them.\n",
      "\n",
      "Furthermore, neuroimaging studies have identified specific brain regions, such as the medial prefrontal cortex and the anterior cingulate cortex, that are involved in self-referential processing and social cognition. These regions can be hyperactive in individuals with high levels of self-consciousness, leading to an increased focus on their own thoughts, feelings, and behaviors.\n",
      "\n",
      "It's also worth noting that cultural and societal factors can play a significant role in shaping our levels of self-consciousness. For example, some cultures place a strong emphasis on individualism and self-expression, which can lead to increased self-awareness and self-consciousness. In contrast, collectivist cultures may prioritize group harmony over individual concerns, potentially reducing self-consciousness.\n",
      "\n",
      "Overall, the reasons behind varying levels of self-consciousness are complex and multifaceted, involving a dynamic interplay between biological, psychological, social, and cultural factors. Would you like me to elaborate on any of these points or explore other related topics?\n",
      "Human: Can you explain why these past experiences are so critical to answering this question?\n",
      "AI: The significance of past experiences in shaping self-consciousness lies in their ability to influence the development of our self-concept and inform our perceptions of ourselves. You see, when we undergo traumatic or stressful events, such as bullying or social rejection, our brains process these experiences and create lasting impressions that can affect our self-awareness.\n",
      "\n",
      "Research has shown that adverse childhood experiences, for instance, can lead to changes in the structure and function of the brain, particularly in regions involved in emotional regulation, memory, and social cognition. This can result in a heightened state of hypervigilance, making individuals more attentive to their surroundings and more prone to self-monitoring.\n",
      "\n",
      "Moreover, past experiences can shape our attachment styles, which refer to the way we perceive and interact with others. Individuals with insecure attachment styles, often developed as a result of negative early relationships, may be more likely to experience self-consciousness due to their increased sensitivity to social rejection and criticism.\n",
      "\n",
      "The concept of \"emotional conditioning\" also comes into play here. Our past experiences can condition us to associate certain situations or stimuli with feelings of anxiety, shame, or embarrassment, leading to a heightened sense of self-awareness in similar contexts. This emotional conditioning can be incredibly powerful, as it can influence our thoughts, feelings, and behaviors even when we're not consciously aware of it.\n",
      "\n",
      "Additionally, the process of \"rumination\" can also contribute to the significance of past experiences in shaping self-consciousness. Rumination refers to the tendency to repetitively think about and reflect on negative experiences, which can reinforce negative self-talk and perpetuate self-criticism. This can create a vicious cycle, where individuals become increasingly self-aware and critical of themselves, leading to heightened self-consciousness.\n",
      "\n",
      "It's also worth noting that past experiences can influence our \"self-narrative,\" or the story we tell ourselves about who we are and how we fit into the world. When we experience traumatic or stressful events, it can challenge our existing self-narrative and lead to a re-evaluation of our values, goals, and sense of identity. This process of self-redefinition can be a catalyst for increased self-awareness and self-consciousness.\n",
      "\n",
      "Would you like me to delve deeper into any of these topics or explore how past experiences intersect with other factors that influence self-consciousness?\n",
      "Human: What is the answer to 3 - 2 * 425?\n",
      "AI:\u001b[0m\n",
      "\n",
      "\u001b[1m> Finished chain.\u001b[0m\n"
     ]
    },
    {
     "data": {
      "text/plain": [
       "\"To calculate the result, I'll follow the order of operations (PEMDAS):\\n\\n1. Multiply 2 and 425: 2 * 425 = 850\\n2. Subtract 850 from 3: 3 - 850 = -847\\n\\nSo, the answer is -847. Would you like me to explain the calculation in more detail or help with something else?\""
      ]
     },
     "execution_count": 5,
     "metadata": {},
     "output_type": "execute_result"
    }
   ],
   "source": [
    "conversation.predict(input=\"What is the answer to 3 - 2 * 425?\")"
   ]
  }
 ],
 "metadata": {
  "kernelspec": {
   "display_name": ".venv",
   "language": "python",
   "name": "python3"
  },
  "language_info": {
   "codemirror_mode": {
    "name": "ipython",
    "version": 3
   },
   "file_extension": ".py",
   "mimetype": "text/x-python",
   "name": "python",
   "nbconvert_exporter": "python",
   "pygments_lexer": "ipython3",
   "version": "3.11.10"
  }
 },
 "nbformat": 4,
 "nbformat_minor": 2
}
