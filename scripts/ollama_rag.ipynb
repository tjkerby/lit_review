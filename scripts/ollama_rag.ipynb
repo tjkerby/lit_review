{
 "cells": [
  {
   "cell_type": "code",
   "execution_count": 1,
   "metadata": {},
   "outputs": [],
   "source": [
    "import sys\n",
    "sys.path.append('/home/TomKerby/Research/lit_review/lit_review')\n",
    "import utils\n",
    "import rag_utils as rag\n",
    "\n",
    "sys.path.append('/home/TomKerby/Research/lit_review/configs')\n",
    "from rag_config import config\n",
    "\n",
    "kg = utils.load_kg(config)"
   ]
  },
  {
   "cell_type": "code",
   "execution_count": 8,
   "metadata": {},
   "outputs": [],
   "source": [
    "from langchain_ollama.llms import OllamaLLM  \n",
    "\n",
    "from dotenv import load_dotenv\n",
    "\n",
    "load_dotenv('/home/TomKerby/Research/lit_review/.env', override=True)\n",
    "\n",
    "llm = OllamaLLM(\n",
    "    model=config['model']['model_id'],\n",
    "    num_ctx=32768,\n",
    "    num_predict=4096,\n",
    "    temperature=0.5\n",
    ")\n",
    "\n",
    "custom_query = \"\"\"\n",
    "MATCH (c:Chunk)\n",
    "WITH DISTINCT c, vector.similarity.cosine(c.textEmbedding, $embedding) AS score\n",
    "ORDER BY score DESC LIMIT $k\n",
    "RETURN c.text AS text, score, {source: c.source, chunkId: c.chunkId} AS metadata\n",
    "\"\"\"\n",
    "\n",
    "prompt_template = \"\"\"\n",
    "You are an expert in generative models. Based on the following context, provide a concise answer to the question. \n",
    "If the context lacks the requested information simply state that you do not know.\n",
    "\n",
    "Context:\n",
    "{context}\n",
    "\n",
    "Question:\n",
    "{question}\n",
    "\n",
    "Answer:\n",
    "\"\"\""
   ]
  },
  {
   "cell_type": "code",
   "execution_count": 9,
   "metadata": {},
   "outputs": [
    {
     "name": "stdout",
     "output_type": "stream",
     "text": [
      "<think>\n",
      "Okay, so I need to figure out how to answer the question about leveraging the latent space structure in diffusion models for generation. Let me start by recalling what I know from the provided context.\n",
      "\n",
      "First, diffusion models work by gradually adding noise to data and then learning to reverse this process. The latent space in these models is where the intermediate noisy versions of the data exist during this forward and reverse process.\n",
      "\n",
      "From the context, I remember that there's something called the \"h-space\" which refers to the bottleneck features of the U-Net used in diffusion models. These features can be manipulated for semantic editing. So one way is to edit these bottleneck features by adding offsets, which allows for controlled changes in the generated images.\n",
      "\n",
      "Another point mentioned was about using vector arithmetic in the latent space, similar to how it's done in GANs. By interpolating between different points or adding specific vectors, you can achieve smooth transitions or apply edits like changing hairstyles or colors.\n",
      "\n",
      "The context also talks about semantic latent spaces that have properties like homogeneity and linearity. This means that moving along certain directions in this space can lead to predictable changes in the generated images. So guiding the generation process by traversing these meaningful directions could be another method.\n",
      "\n",
      "Additionally, there's a mention of using CLIP embeddings or text prompts to find semantic editing directions. By optimizing for specific text descriptions within the latent space, one can perform more targeted and high-level edits on the generated images.\n",
      "\n",
      "I also recall something about non-Gaussian noise spaces that improve editability. Instead of the traditional Gaussian distribution, alternative distributions might make the latent space more amenable to semantic manipulations.\n",
      "\n",
      "Lastly, the idea of conditional generation was touched upon, where the model is conditioned on certain inputs like captions or segmentation masks. This conditioning can steer the generation process towards producing images with desired attributes by influencing the latent space dynamics.\n",
      "\n",
      "Putting this all together, it seems there are multiple strategies: manipulating bottleneck features (h-space), using vector arithmetic for edits, leveraging semantic directions found via optimization or CLIP embeddings, exploring non-Gaussian noise distributions, and employing conditional generation techniques.\n",
      "</think>\n",
      "\n",
      "To leverage the structure of a latent space in diffusion models for influencing generation, several strategies can be employed:\n",
      "\n",
      "1. **Manipulating Bottleneck Features (h-space):** The bottleneck features of the U-Net, referred to as \"h-space,\" can be edited by adding specific offsets. This allows for controlled semantic changes in generated images.\n",
      "\n",
      "2. **Vector Arithmetic:** By performing vector arithmetic operations in the latent space, similar to GANs, one can achieve smooth transitions or apply edits such as changing hairstyles or colors through interpolation or addition of vectors.\n",
      "\n",
      "3. **Semantic Directions:** The latent space may have semantically meaningful directions that can be traversed for predictable changes. These directions can be found using optimization techniques or by leveraging CLIP embeddings and text prompts to guide the generation process.\n",
      "\n",
      "4. **Non-Gaussian Noise Distributions:** Exploring alternative noise distributions beyond the traditional Gaussian can enhance the editability of the latent space, making it more suitable for semantic manipulations.\n",
      "\n",
      "5. **Conditional Generation:** Conditioning the model on specific inputs like captions or segmentation masks allows steering the generation towards desired attributes by influencing the dynamics within the latent space.\n",
      "\n",
      "These methods collectively provide a robust framework for controlling and enhancing image generation in diffusion models through structured latent space manipulation."
     ]
    }
   ],
   "source": [
    "question = \"What are some ways that you can leverage the structure of a latent space to influence generation in a diffusion model?\"\n",
    "\n",
    "rag.query_kg(question, llm, kg, config, custom_query, prompt_template, k=30)"
   ]
  }
 ],
 "metadata": {
  "kernelspec": {
   "display_name": ".venv",
   "language": "python",
   "name": "python3"
  },
  "language_info": {
   "codemirror_mode": {
    "name": "ipython",
    "version": 3
   },
   "file_extension": ".py",
   "mimetype": "text/x-python",
   "name": "python",
   "nbconvert_exporter": "python",
   "pygments_lexer": "ipython3",
   "version": "3.11.10"
  }
 },
 "nbformat": 4,
 "nbformat_minor": 2
}
