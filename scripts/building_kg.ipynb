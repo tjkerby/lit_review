{
 "cells": [
  {
   "cell_type": "code",
   "execution_count": 1,
   "metadata": {},
   "outputs": [
    {
     "name": "stderr",
     "output_type": "stream",
     "text": [
      "c:\\Users\\tjker\\Desktop\\Research\\Projects\\lit_review\\.venv\\lib\\site-packages\\tqdm\\auto.py:21: TqdmWarning: IProgress not found. Please update jupyter and ipywidgets. See https://ipywidgets.readthedocs.io/en/stable/user_install.html\n",
      "  from .autonotebook import tqdm as notebook_tqdm\n"
     ]
    }
   ],
   "source": [
    "import semantic_scholar_api as ss_api\n",
    "from neo4j import GraphDatabase\n",
    "import neo4j_utils as nu\n",
    "import pandas as pd\n",
    "from tqdm.auto import tqdm"
   ]
  },
  {
   "cell_type": "code",
   "execution_count": 2,
   "metadata": {},
   "outputs": [
    {
     "name": "stderr",
     "output_type": "stream",
     "text": [
      "100%|██████████| 24/24 [00:09<00:00,  2.63it/s]\n"
     ]
    }
   ],
   "source": [
    "file_path = 'C:/Users/tjker/Desktop/Research/Projects/lit_review/data/paper_titles.txt'\n",
    "with open(file_path, 'r') as file:\n",
    "    paper_titles = [line.strip() for line in file]\n",
    "\n",
    "data = []\n",
    "for title in tqdm(paper_titles):\n",
    "    try:\n",
    "        paper_data = ss_api.exponential_backoff_retry(ss_api.search_paper_by_title, title)\n",
    "        if paper_data:\n",
    "            # print(json.dumps(paper_data, indent=2))\n",
    "            data.append(paper_data)\n",
    "    except ss_api.RateLimitExceededError:\n",
    "        print(\"Exceeded rate limit. Please try again later.\")\n",
    "    except Exception as e:\n",
    "        print(f\"An error occurred: {e}\")\n",
    "\n",
    "df = pd.json_normalize(data)"
   ]
  },
  {
   "cell_type": "code",
   "execution_count": 3,
   "metadata": {},
   "outputs": [
    {
     "name": "stderr",
     "output_type": "stream",
     "text": [
      "24it [00:03,  6.45it/s]\n",
      "100%|██████████| 24/24 [00:36<00:00,  1.51s/it]\n"
     ]
    }
   ],
   "source": [
    "uri = \"bolt://localhost:7687\"\n",
    "driver = GraphDatabase.driver(uri, auth=(\"neo4j\", \"neo4j_is_the_best\"))\n",
    "cited_papers = {}\n",
    "\n",
    "with driver.session() as session:\n",
    "    for i, paper in tqdm(enumerate(data)):\n",
    "        if paper is None:\n",
    "            continue\n",
    "\n",
    "        paper_properties = {key: value for key, value in paper.items() if key != 'authors'}\n",
    "        paper_properties['level'] = 1\n",
    "        paper_node = nu.get_or_create_paper_node(session, paper_properties)\n",
    "        \n",
    "        for author in paper['authors']:\n",
    "            author_node = nu.get_or_create_author_node(session, author)\n",
    "            session.execute_write(\n",
    "                nu.create_authored_rel,\n",
    "                {\"paperId\": paper['paperId']},\n",
    "                {\"authorId\": author['authorId']}\n",
    "            )\n",
    "    for i in tqdm(range(len(data))):\n",
    "        try:\n",
    "            citation_data = ss_api.exponential_backoff_retry(ss_api.get_paper_references, df.loc[i].paperId, fields=[\"title\", \"abstract\", \"citationCount\", \"publicationDate\"])\n",
    "            for cited_paper in citation_data['data']:\n",
    "                cited_paper = cited_paper['citedPaper']\n",
    "                query = \"MATCH (p:Paper {paperId: $paperId}) RETURN p\"\n",
    "                result = session.run(query, paperId=cited_paper['paperId'])\n",
    "                cited_paper_node = result.single()\n",
    "                if cited_paper_node is not None:\n",
    "                    session.execute_write(\n",
    "                        nu.create_cites_rel,\n",
    "                        {\"paperId\": df.loc[i].paperId},\n",
    "                        {\"paperId\": cited_paper['paperId']}\n",
    "                    )\n",
    "                else:\n",
    "                    cited_paper['level'] = 2\n",
    "                    cited_paper_node = nu.get_or_create_paper_node(session, cited_paper)\n",
    "                    session.execute_write(\n",
    "                        nu.create_cites_rel,\n",
    "                        {\"paperId\": df.loc[i].paperId},\n",
    "                        {\"paperId\": cited_paper['paperId']}\n",
    "                    )                 \n",
    "        except ss_api.RateLimitExceededError:\n",
    "            print(\"Exceeded rate limit. Please try again later.\")\n",
    "        except Exception as e:\n",
    "            print(f\"An error occurred: {e}\")"
   ]
  },
  {
   "cell_type": "code",
   "execution_count": 4,
   "metadata": {},
   "outputs": [
    {
     "ename": "",
     "evalue": "",
     "output_type": "error",
     "traceback": [
      "\u001b[1;31mThe Kernel crashed while executing code in the current cell or a previous cell. \n",
      "\u001b[1;31mPlease review the code in the cell(s) to identify a possible cause of the failure. \n",
      "\u001b[1;31mClick <a href='https://aka.ms/vscodeJupyterKernelCrash'>here</a> for more info. \n",
      "\u001b[1;31mView Jupyter <a href='command:jupyter.viewOutput'>log</a> for further details."
     ]
    }
   ],
   "source": [
    "driver.close()"
   ]
  }
 ],
 "metadata": {
  "kernelspec": {
   "display_name": ".venv",
   "language": "python",
   "name": "python3"
  },
  "language_info": {
   "codemirror_mode": {
    "name": "ipython",
    "version": 3
   },
   "file_extension": ".py",
   "mimetype": "text/x-python",
   "name": "python",
   "nbconvert_exporter": "python",
   "pygments_lexer": "ipython3",
   "version": "3.10.9"
  }
 },
 "nbformat": 4,
 "nbformat_minor": 2
}
