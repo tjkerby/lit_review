{
 "cells": [
  {
   "cell_type": "code",
   "execution_count": 35,
   "metadata": {},
   "outputs": [],
   "source": [
    "import time\n",
    "import requests\n",
    "import json\n",
    "\n",
    "def exponential_backoff_retry(\n",
    "    func, \n",
    "    title,\n",
    "    max_retries=5, \n",
    "    base_delay=1, \n",
    "    max_delay=32\n",
    "):\n",
    "    \"\"\"\n",
    "    Retries a function with exponential backoff.\n",
    "\n",
    "    Args:\n",
    "        func: A callable that may raise an exception.\n",
    "        max_retries: Maximum number of retries before giving up.\n",
    "        base_delay: Initial delay in seconds.\n",
    "        max_delay: Maximum delay in seconds.\n",
    "        jitter: Whether to add randomness to the delay.\n",
    "\n",
    "    Returns:\n",
    "        The result of the function if successful.\n",
    "\n",
    "    Raises:\n",
    "        The last exception raised if all retries fail.\n",
    "    \"\"\"\n",
    "    for attempt in range(1, max_retries + 1):\n",
    "        try:\n",
    "            return func(title)\n",
    "        except Exception as e:\n",
    "            if attempt == max_retries:\n",
    "                raise  # Re-raise the last exception\n",
    "            else:\n",
    "                delay = min(base_delay * 2**(attempt - 1), max_delay)\n",
    "                print(f\"Attempt {attempt} failed. Retrying in {delay:.2f} seconds...\")\n",
    "                time.sleep(delay)\n",
    "\n",
    "def search_paper_by_title(title):\n",
    "    url = \"https://api.semanticscholar.org/graph/v1/paper/search\"\n",
    "    params = {\n",
    "        \"query\": f\"title:({title})\",\n",
    "        \"fields\": \"title,url,publicationTypes,publicationDate,openAccessPdf,citationCount,authors,abstract\",\n",
    "        \"year\": \"2020-\",\n",
    "        \"limit\": 1  # Adjust as needed\n",
    "    }\n",
    "\n",
    "    response = requests.get(url, params=params)\n",
    "    if response.status_code == 200:\n",
    "        data = response.json()\n",
    "        if data.get(\"data\"):\n",
    "            return data[\"data\"][0]  # Return the first matching paper\n",
    "        else:\n",
    "            print(\"No matching papers found.\")\n",
    "    else:\n",
    "        print(f\"Error: {response.status_code}\")\n",
    "    return None"
   ]
  },
  {
   "cell_type": "code",
   "execution_count": 36,
   "metadata": {},
   "outputs": [
    {
     "name": "stdout",
     "output_type": "stream",
     "text": [
      "No matching papers found.\n"
     ]
    }
   ],
   "source": [
    "paper_titles = [\n",
    "    'Latent Space Editing in Transformer-Based Flow Matching', \n",
    "    'A Survey of Multimodal Controllable Diffusion Models'\n",
    "]\n",
    "\n",
    "data = []\n",
    "for title in paper_titles:\n",
    "    paper_data = exponential_backoff_retry(search_paper_by_title, title)\n",
    "    data.append(paper_data)\n"
   ]
  },
  {
   "cell_type": "code",
   "execution_count": 37,
   "metadata": {},
   "outputs": [
    {
     "data": {
      "text/plain": [
       "[{'paperId': 'ca743e75ce090bbf686307e41bd8747661768fbe',\n",
       "  'url': 'https://www.semanticscholar.org/paper/ca743e75ce090bbf686307e41bd8747661768fbe',\n",
       "  'title': 'Latent Space Editing in Transformer-Based Flow Matching',\n",
       "  'abstract': 'This paper strives for image editing via generative models. Flow Matching is an emerging generative modeling technique that offers the advantage of simple and efficient training. Simultaneously, a new transformer-based U-ViT has recently been proposed to replace the commonly used UNet for better scalability and performance in generative modeling. Hence, Flow Matching with a transformer backbone offers the potential for scalable and high-quality generative modeling, but their latent structure and editing ability are as of yet unknown. Hence, we adopt this setting and explore how to edit images through latent space manipulation. We introduce an editing space, which we call u-space, that can be manipulated in a controllable, accumulative, and composable manner. Additionally, we propose a tailored sampling solution to enable sampling with the more efficient adaptive step-size ODE solvers. Lastly, we put forth a straightforward yet powerful method for achieving fine-grained and nuanced editing using text prompts. Our framework is simple and efficient, all while being highly effective at editing images while preserving the essence of the original content. Our code will be publicly available at https://taohu.me/lfm/',\n",
       "  'citationCount': 22,\n",
       "  'openAccessPdf': None,\n",
       "  'publicationTypes': ['JournalArticle', 'Conference'],\n",
       "  'publicationDate': '2023-12-17',\n",
       "  'authors': [{'authorId': '2066967977', 'name': 'Vincent Tao Hu'},\n",
       "   {'authorId': '2127383427', 'name': 'David W. Zhang'},\n",
       "   {'authorId': '2262175366', 'name': 'Meng Tang'},\n",
       "   {'authorId': '40892875', 'name': 'P. Mettes'},\n",
       "   {'authorId': '2262849367', 'name': 'Deli Zhao'},\n",
       "   {'authorId': '145404204', 'name': 'Cees G. M. Snoek'}]},\n",
       " None]"
      ]
     },
     "execution_count": 37,
     "metadata": {},
     "output_type": "execute_result"
    }
   ],
   "source": [
    "data"
   ]
  }
 ],
 "metadata": {
  "kernelspec": {
   "display_name": ".venv",
   "language": "python",
   "name": "python3"
  },
  "language_info": {
   "codemirror_mode": {
    "name": "ipython",
    "version": 3
   },
   "file_extension": ".py",
   "mimetype": "text/x-python",
   "name": "python",
   "nbconvert_exporter": "python",
   "pygments_lexer": "ipython3",
   "version": "3.10.9"
  }
 },
 "nbformat": 4,
 "nbformat_minor": 2
}
